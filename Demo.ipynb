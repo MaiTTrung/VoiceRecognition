{
 "cells": [
  {
   "cell_type": "markdown",
   "metadata": {},
   "source": [
    "# Đọc file và kiểm tra"
   ]
  },
  {
   "cell_type": "code",
   "execution_count": 27,
   "metadata": {},
   "outputs": [
    {
     "name": "stdout",
     "output_type": "stream",
     "text": [
      "Folder: Bye\n",
      "Bye.wav\n",
      "Bye2.wav\n",
      "Bye3.wav\n",
      "Folder: Hello\n"
     ]
    }
   ],
   "source": [
    "import os \n",
    "\n",
    "\n",
    "sound_folder = 'Sound/'\n",
    "folder_list = os.listdir(sound_folder)\n",
    "\n",
    "for folder in folder_list:\n",
    "    print(\"Folder: \" + folder)\n",
    "    for file in os.listdir(sound_folder + folder + '/'):\n",
    "\n",
    "        print(file)"
   ]
  },
  {
   "cell_type": "markdown",
   "metadata": {},
   "source": [
    "# Biến đổi đầu vào và gắn nhãn"
   ]
  },
  {
   "cell_type": "code",
   "execution_count": 24,
   "metadata": {},
   "outputs": [
    {
     "name": "stdout",
     "output_type": "stream",
     "text": [
      "Bye\n",
      "44100\n",
      "[ 0.          0.          0.         ... -0.01409912 -0.00601196\n",
      "  0.00161743]\n",
      "[[-6.57796143e+02 -6.55372375e+02 -5.10442444e+02 ... -3.62398865e+02\n",
      "  -3.57399841e+02 -3.82482605e+02]\n",
      " [ 0.00000000e+00  3.40845704e+00  1.12403076e+02 ...  1.47081009e+02\n",
      "   1.45921356e+02  1.28070129e+02]\n",
      " [ 0.00000000e+00  3.35104012e+00  1.99178200e+01 ... -7.23037491e+01\n",
      "  -7.53158417e+01 -7.34255447e+01]\n",
      " ...\n",
      " [ 0.00000000e+00  2.03142929e+00  7.58084297e+00 ...  4.68315840e+00\n",
      "   6.41852188e+00  1.23945799e+01]\n",
      " [ 0.00000000e+00  1.74869871e+00  1.82782245e+00 ... -1.46227765e+00\n",
      "   2.67781317e-01  3.68009567e+00]\n",
      " [ 0.00000000e+00  1.45452952e+00  6.76789761e-01 ... -1.94259224e+01\n",
      "  -1.56595421e+01 -9.52735329e+00]]\n",
      "\n",
      "Bye\n",
      "44100\n",
      "[0.         0.         0.         ... 0.00976562 0.00881958 0.00695801]\n",
      "[[-617.8179    -617.8179    -509.7673    ... -454.3055    -454.16464\n",
      "  -458.85153  ]\n",
      " [   0.           0.          58.80503   ...  118.09656    120.66124\n",
      "   121.236786 ]\n",
      " [   0.           0.         -15.636267  ...   10.75165     15.198353\n",
      "    12.094205 ]\n",
      " ...\n",
      " [   0.           0.          23.365383  ...    5.390877     6.2078304\n",
      "     6.6094027]\n",
      " [   0.           0.          -1.8205218 ...   -4.220499    -6.22565\n",
      "    -3.3378768]\n",
      " [   0.           0.         -21.827484  ...  -20.3748     -22.044895\n",
      "   -14.975166 ]]\n",
      "\n",
      "Bye\n",
      "44100\n",
      "[ 0.          0.          0.         ... -0.0246582  -0.02423096\n",
      " -0.0239563 ]\n",
      "[[-6.3359039e+02 -6.3359039e+02 -4.9171899e+02 ... -3.7382263e+02\n",
      "  -3.6209689e+02 -3.6164481e+02]\n",
      " [ 0.0000000e+00  0.0000000e+00  7.2487358e+01 ...  1.3699359e+02\n",
      "   1.3856744e+02  1.1977162e+02]\n",
      " [ 0.0000000e+00  0.0000000e+00 -5.9528816e+01 ... -8.4315414e+01\n",
      "  -8.0231613e+01 -5.1435455e+01]\n",
      " ...\n",
      " [ 0.0000000e+00  0.0000000e+00  3.7471951e+01 ...  2.8102520e+01\n",
      "   2.3208820e+01  1.7400806e+01]\n",
      " [ 0.0000000e+00  0.0000000e+00  3.3067570e+01 ... -3.0360141e+00\n",
      "   1.6465950e-01 -5.3136458e+00]\n",
      " [ 0.0000000e+00  0.0000000e+00 -2.0450405e+01 ... -1.5183344e+01\n",
      "  -1.5834934e+01 -1.7835630e+01]]\n",
      "\n"
     ]
    }
   ],
   "source": [
    "import librosa\n",
    "\n",
    "\n",
    "#create label_list and mfcc_list\n",
    "mfcc_list = []\n",
    "label_list = []\n",
    "\n",
    "\n",
    "# each folder is label because each label have many file sound\n",
    "for folder in folder_list:\n",
    "    for file in os.listdir(sound_folder + folder + '/'):\n",
    "        y, sr = librosa.load(os.path.join(sound_folder, folder, file), sr = None)\n",
    "        mfcc = librosa.feature.mfcc(y=y, sr=sr, n_mfcc=12)\n",
    "\n",
    "        label_list.append(folder)\n",
    "        mfcc_list.append(mfcc)\n",
    "\n",
    "        print(folder)\n",
    "        print(sr)\n",
    "        print(y)\n",
    "        print(mfcc)\n",
    "        print()\n",
    "\n",
    "\n",
    "        "
   ]
  },
  {
   "cell_type": "markdown",
   "metadata": {},
   "source": [
    "# Sử lý dữ liệu đầu vào"
   ]
  },
  {
   "cell_type": "code",
   "execution_count": 29,
   "metadata": {},
   "outputs": [
    {
     "name": "stdout",
     "output_type": "stream",
     "text": [
      "(12, 200)\n",
      "(12, 200)\n",
      "(12, 200)\n"
     ]
    }
   ],
   "source": [
    "import numpy as np\n",
    "\n",
    "# Số đặc trưng mong muốn\n",
    "desired_num_features = 200\n",
    "processed_mfcc_list = []\n",
    "# Cắt hoặc zero-padding các khung MFCC để có cùng số đặc trưng\n",
    "def process_mfcc(mfcc):\n",
    "    if mfcc.shape[1] > desired_num_features:\n",
    "        mfcc = mfcc[:, :desired_num_features]\n",
    "    elif mfcc.shape[1] < desired_num_features:\n",
    "        num_missing_features = desired_num_features - mfcc.shape[1]\n",
    "        mfcc = np.pad(mfcc, ((0, 0), (0, num_missing_features)), mode='constant')\n",
    "    return mfcc\n",
    "\n",
    "\n",
    "for mfcc in mfcc_list:\n",
    "    processed_mfcc = process_mfcc(mfcc)\n",
    "    processed_mfcc_list.append(processed_mfcc)\n",
    "\n",
    "\n",
    "    \n",
    "for mfcc in processed_mfcc_list:\n",
    "    print(mfcc.shape)"
   ]
  },
  {
   "cell_type": "markdown",
   "metadata": {},
   "source": [
    "# Huấn luyện bằng mô hình RNN\n"
   ]
  },
  {
   "cell_type": "code",
   "execution_count": 35,
   "metadata": {},
   "outputs": [
    {
     "name": "stdout",
     "output_type": "stream",
     "text": [
      "Epoch 1/10\n",
      "1/1 [==============================] - 3s 3s/step - loss: 4.0081 - accuracy: 0.0000e+00 - val_loss: 3.5748 - val_accuracy: 0.0000e+00\n",
      "Epoch 2/10\n",
      "1/1 [==============================] - 0s 35ms/step - loss: 3.3698 - accuracy: 0.0000e+00 - val_loss: 3.6992 - val_accuracy: 0.0000e+00\n",
      "Epoch 3/10\n",
      "1/1 [==============================] - 0s 34ms/step - loss: 3.0200 - accuracy: 0.0000e+00 - val_loss: 3.5810 - val_accuracy: 0.0000e+00\n",
      "Epoch 4/10\n",
      "1/1 [==============================] - 0s 34ms/step - loss: 2.8419 - accuracy: 0.0000e+00 - val_loss: 3.4766 - val_accuracy: 0.0000e+00\n",
      "Epoch 5/10\n",
      "1/1 [==============================] - 0s 41ms/step - loss: 2.6433 - accuracy: 0.5000 - val_loss: 3.4060 - val_accuracy: 0.0000e+00\n",
      "Epoch 6/10\n",
      "1/1 [==============================] - 0s 34ms/step - loss: 2.5579 - accuracy: 0.5000 - val_loss: 3.3233 - val_accuracy: 0.0000e+00\n",
      "Epoch 7/10\n",
      "1/1 [==============================] - 0s 34ms/step - loss: 2.4752 - accuracy: 0.5000 - val_loss: 3.2551 - val_accuracy: 0.0000e+00\n",
      "Epoch 8/10\n",
      "1/1 [==============================] - 0s 33ms/step - loss: 2.4063 - accuracy: 0.5000 - val_loss: 3.2483 - val_accuracy: 0.0000e+00\n",
      "Epoch 9/10\n",
      "1/1 [==============================] - 0s 32ms/step - loss: 2.3725 - accuracy: 0.5000 - val_loss: 3.2668 - val_accuracy: 0.0000e+00\n",
      "Epoch 10/10\n",
      "1/1 [==============================] - 0s 34ms/step - loss: 2.3474 - accuracy: 0.5000 - val_loss: 3.3033 - val_accuracy: 0.0000e+00\n"
     ]
    },
    {
     "data": {
      "text/plain": [
       "<keras.callbacks.History at 0x2619a1a5e90>"
      ]
     },
     "execution_count": 35,
     "metadata": {},
     "output_type": "execute_result"
    }
   ],
   "source": [
    "import tensorflow as tf\n",
    "\n",
    "\n",
    "label_numeric = [i for i, _ in enumerate(label_list)]\n",
    "label_arr = np.asarray(label_numeric)\n",
    "mfcc_arr = np.asarray(processed_mfcc_list)\n",
    "\n",
    "\n",
    "\n",
    "model = tf.keras.Sequential([\n",
    "    tf.keras.layers.LSTM(32),  # Sử dụng LSTM với 64 units\n",
    "    tf.keras.layers.Dense(units = 32, activation='softmax')  \n",
    "])\n",
    "\n",
    "# Biên dịch mô hình\n",
    "model.compile(optimizer='adam', loss='sparse_categorical_crossentropy', metrics=['accuracy'])\n",
    "\n",
    "# Huấn luyện mô hình\n",
    "model.fit(mfcc_arr, label_arr, epochs=10, batch_size=32, validation_split=0.01)"
   ]
  }
 ],
 "metadata": {
  "kernelspec": {
   "display_name": "Python 3",
   "language": "python",
   "name": "python3"
  },
  "language_info": {
   "codemirror_mode": {
    "name": "ipython",
    "version": 3
   },
   "file_extension": ".py",
   "mimetype": "text/x-python",
   "name": "python",
   "nbconvert_exporter": "python",
   "pygments_lexer": "ipython3",
   "version": "3.11.1"
  },
  "orig_nbformat": 4
 },
 "nbformat": 4,
 "nbformat_minor": 2
}
