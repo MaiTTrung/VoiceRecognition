{
 "cells": [
  {
   "cell_type": "markdown",
   "metadata": {},
   "source": [
    "# Đọc file và kiểm tra"
   ]
  },
  {
   "cell_type": "code",
   "execution_count": 116,
   "metadata": {},
   "outputs": [],
   "source": [
    "\n",
    "# import librosa\n",
    "# y, sr = librosa.load(\"Sound/hello/hello_1.wav\")\n",
    "# mfccs = librosa.feature.mfcc(y=y,sr=sr,n_mfcc=1)\n",
    "# print(mfccs.shape)\n",
    "# print(mfccs)"
   ]
  },
  {
   "cell_type": "markdown",
   "metadata": {},
   "source": []
  },
  {
   "cell_type": "code",
   "execution_count": 117,
   "metadata": {},
   "outputs": [],
   "source": [
    "import os \n",
    "\n",
    "\n",
    "sound_folder = 'audio/audio/'\n",
    "folder_list = os.listdir(sound_folder)\n",
    "\n",
    "# for folder in folder_list:\n",
    "#     print()\n",
    "#     print(\"Folder: \" + folder)\n",
    "#     for file in os.listdir(sound_folder + folder + '/'):\n",
    "#         print(file)"
   ]
  },
  {
   "cell_type": "markdown",
   "metadata": {},
   "source": [
    "# Biến đổi đầu vào và gắn nhãn"
   ]
  },
  {
   "cell_type": "code",
   "execution_count": 118,
   "metadata": {},
   "outputs": [
    {
     "name": "stdout",
     "output_type": "stream",
     "text": [
      "['bye', 'bye', 'bye', 'bye', 'bye', 'bye', 'bye', 'bye', 'bye', 'bye', 'bye', 'bye', 'bye', 'bye', 'bye', 'bye', 'bye', 'bye', 'bye', 'bye', 'bye', 'bye', 'bye', 'bye', 'bye', 'bye', 'bye', 'bye', 'bye', 'bye', 'bye', 'bye', 'bye', 'bye', 'bye', 'bye', 'bye', 'bye', 'bye', 'bye', 'bye', 'bye', 'bye', 'bye', 'bye', 'bye', 'bye', 'bye', 'bye', 'bye', 'bye', 'bye', 'bye', 'bye', 'bye', 'bye', 'bye', 'bye', 'bye', 'bye', 'bye', 'bye', 'bye', 'bye', 'bye', 'bye', 'bye', 'bye', 'bye', 'bye', 'bye', 'bye', 'bye', 'bye', 'bye', 'bye', 'bye', 'bye', 'bye', 'bye', 'bye', 'bye', 'bye', 'bye', 'bye', 'bye', 'bye', 'bye', 'bye', 'bye', 'bye', 'bye', 'bye', 'bye', 'bye', 'bye', 'bye', 'bye', 'bye', 'bye', 'bye', 'bye', 'bye', 'bye', 'bye', 'bye', 'bye', 'bye', 'bye', 'bye', 'bye', 'bye', 'bye', 'bye', 'bye', 'bye', 'bye', 'bye', 'bye', 'bye', 'bye', 'bye', 'bye', 'bye', 'bye', 'bye', 'bye', 'bye', 'bye', 'bye', 'bye', 'bye', 'bye', 'bye', 'bye', 'bye', 'bye', 'bye', 'bye', 'bye', 'bye', 'bye', 'bye', 'bye', 'bye', 'bye', 'bye', 'bye', 'bye', 'bye', 'code', 'code', 'code', 'code', 'code', 'code', 'code', 'code', 'code', 'code', 'code', 'code', 'code', 'code', 'code', 'code', 'code', 'code', 'code', 'code', 'code', 'code', 'code', 'code', 'code', 'code', 'code', 'code', 'code', 'code', 'code', 'code', 'code', 'code', 'code', 'code', 'code', 'code', 'code', 'code', 'code', 'code', 'code', 'code', 'code', 'code', 'code', 'code', 'code', 'code', 'code', 'code', 'code', 'code', 'code', 'code', 'code', 'code', 'code', 'code', 'code', 'code', 'code', 'code', 'code', 'code', 'code', 'code', 'code', 'code', 'code', 'code', 'code', 'code', 'code', 'code', 'code', 'code', 'code', 'code', 'code', 'code', 'code', 'code', 'code', 'code', 'code', 'code', 'code', 'code', 'code', 'code', 'code', 'code', 'code', 'code', 'code', 'code', 'code', 'code', 'code', 'code', 'code', 'code', 'code', 'code', 'code', 'code', 'code', 'code', 'code', 'code', 'code', 'code', 'code', 'code', 'code', 'code', 'code', 'code', 'code', 'code', 'code', 'code', 'code', 'code', 'code', 'code', 'code', 'code', 'code', 'code', 'code', 'code', 'code', 'code', 'code', 'code', 'code', 'code', 'code', 'code', 'code', 'code', 'code', 'code', 'code', 'code', 'hello', 'hello', 'hello', 'hello', 'hello', 'hello', 'hello', 'hello', 'hello', 'hello', 'hello', 'hello', 'hello', 'hello', 'hello', 'hello', 'hello', 'hello', 'hello', 'hello', 'hello', 'hello', 'hello', 'hello', 'hello', 'hello', 'hello', 'hello', 'hello', 'hello', 'hello', 'hello', 'hello', 'hello', 'hello', 'hello', 'hello', 'hello', 'hello', 'hello', 'hello', 'hello', 'hello', 'hello', 'hello', 'hello', 'hello', 'hello', 'hello', 'hello', 'hello', 'hello', 'hello', 'hello', 'hello', 'hello', 'hello', 'hello', 'hello', 'hello', 'hello', 'hello', 'hello', 'hello', 'hello', 'hello', 'hello', 'hello', 'hello', 'hello', 'hello', 'hello', 'hello', 'hello', 'hello', 'hello', 'hello', 'hello']\n"
     ]
    }
   ],
   "source": [
    "import librosa\n",
    "\n",
    "\n",
    "#create label_list and mfcc_list\n",
    "mfcc_list = []\n",
    "label_list = []\n",
    "\n",
    "\n",
    "# each folder is label because each label have many file sound\n",
    "for folder in folder_list:\n",
    "    for file in os.listdir(sound_folder + folder + '/'):\n",
    "        y, sr = librosa.load(os.path.join(sound_folder, folder, file), sr = 8000)\n",
    "        mfcc = librosa.feature.mfcc(y=y, sr=sr, n_mfcc=12)\n",
    "        \n",
    "        label_list.append(folder)\n",
    "        mfcc_list.append(mfcc)\n",
    "\n",
    "print(label_list)\n",
    "\n",
    "        "
   ]
  },
  {
   "cell_type": "code",
   "execution_count": 119,
   "metadata": {},
   "outputs": [],
   "source": [
    "# for x in range(len(mfcc_list)):\n",
    "#     print(mfcc_list[x].shape)"
   ]
  },
  {
   "cell_type": "markdown",
   "metadata": {},
   "source": [
    "# Xử lý dữ liệu đầu vào"
   ]
  },
  {
   "cell_type": "code",
   "execution_count": 120,
   "metadata": {},
   "outputs": [],
   "source": [
    "import numpy as np\n",
    "\n",
    "# Số đặc trưng mong muốn\n",
    "desired_num_features = 50\n",
    "processed_mfcc_list = []\n",
    "# Cắt hoặc zero-padding các khung MFCC để có cùng số đặc trưng\n",
    "def process_mfcc(mfcc):\n",
    "    if mfcc.shape[1] > desired_num_features:\n",
    "        mfcc = mfcc[:, :desired_num_features]\n",
    "    elif mfcc.shape[1] < desired_num_features:\n",
    "        num_missing_features = desired_num_features - mfcc.shape[1]\n",
    "        mfcc = np.pad(mfcc, ((0, 0), (0, num_missing_features)), mode='constant')\n",
    "    return mfcc\n",
    "\n",
    "\n",
    "for mfcc in mfcc_list:\n",
    "    processed_mfcc = process_mfcc(mfcc)\n",
    "    processed_mfcc_list.append(processed_mfcc)\n",
    "\n",
    "\n",
    "    \n",
    "# for mfcc in processed_mfcc_list:\n",
    "#     print(mfcc.shape)"
   ]
  },
  {
   "cell_type": "code",
   "execution_count": 121,
   "metadata": {},
   "outputs": [
    {
     "name": "stdout",
     "output_type": "stream",
     "text": [
      "[0 0 0 0 0 0 0 0 0 0 0 0 0 0 0 0 0 0 0 0 0 0 0 0 0 0 0 0 0 0 0 0 0 0 0 0 0\n",
      " 0 0 0 0 0 0 0 0 0 0 0 0 0 0 0 0 0 0 0 0 0 0 0 0 0 0 0 0 0 0 0 0 0 0 0 0 0\n",
      " 0 0 0 0 0 0 0 0 0 0 0 0 0 0 0 0 0 0 0 0 0 0 0 0 0 0 0 0 0 0 0 0 0 0 0 0 0\n",
      " 0 0 0 0 0 0 0 0 0 0 0 0 0 0 0 0 0 0 0 0 0 0 0 0 0 0 0 0 0 0 0 0 0 0 0 0 0\n",
      " 0 0 1 1 1 1 1 1 1 1 1 1 1 1 1 1 1 1 1 1 1 1 1 1 1 1 1 1 1 1 1 1 1 1 1 1 1\n",
      " 1 1 1 1 1 1 1 1 1 1 1 1 1 1 1 1 1 1 1 1 1 1 1 1 1 1 1 1 1 1 1 1 1 1 1 1 1\n",
      " 1 1 1 1 1 1 1 1 1 1 1 1 1 1 1 1 1 1 1 1 1 1 1 1 1 1 1 1 1 1 1 1 1 1 1 1 1\n",
      " 1 1 1 1 1 1 1 1 1 1 1 1 1 1 1 1 1 1 1 1 1 1 1 1 1 1 1 1 1 1 1 1 1 1 1 1 1\n",
      " 1 1 2 2 2 2 2 2 2 2 2 2 2 2 2 2 2 2 2 2 2 2 2 2 2 2 2 2 2 2 2 2 2 2 2 2 2\n",
      " 2 2 2 2 2 2 2 2 2 2 2 2 2 2 2 2 2 2 2 2 2 2 2 2 2 2 2 2 2 2 2 2 2 2 2 2 2\n",
      " 2 2 2 2 2 2]\n",
      "376\n"
     ]
    }
   ],
   "source": [
    "\n",
    "from sklearn.preprocessing import LabelEncoder\n",
    "from keras.utils import to_categorical\n",
    "\n",
    "label_encoder = LabelEncoder()\n",
    "encoded_labels = label_encoder.fit_transform(label_list)\n",
    "\n",
    "one_hot_labels  = to_categorical(encoded_labels)\n",
    "\n",
    "label_arr = np.asarray(encoded_labels)\n",
    "mfcc_arr = np.asarray(processed_mfcc_list)\n",
    "\n",
    "\n",
    "print(label_arr)\n",
    "print(len(mfcc_arr))\n"
   ]
  },
  {
   "cell_type": "code",
   "execution_count": 122,
   "metadata": {},
   "outputs": [
    {
     "name": "stdout",
     "output_type": "stream",
     "text": [
      "(12, 50)\n"
     ]
    }
   ],
   "source": [
    "#print(mfcc_arr)\n",
    "print(mfcc_arr[1].shape)"
   ]
  },
  {
   "cell_type": "code",
   "execution_count": 123,
   "metadata": {},
   "outputs": [
    {
     "name": "stdout",
     "output_type": "stream",
     "text": [
      "376\n",
      "376\n"
     ]
    }
   ],
   "source": [
    "print(len(label_arr))\n",
    "print(len(mfcc_arr))"
   ]
  },
  {
   "cell_type": "code",
   "execution_count": 124,
   "metadata": {},
   "outputs": [
    {
     "name": "stdout",
     "output_type": "stream",
     "text": [
      "[2 2 0 0 0 0 1 1 1 1 0 1 1 0 1 1 1 1 0 2 1 2 1 2 0 0 1 0 0 2 0 2 2 0 0 2 0\n",
      " 0 0 2 0 0 2 2 2 2 0 0 2 0 0 1 0 0 0 0 1 1 2 0 2 2 1 0 0 0 1 1 1 1 0 1 1 0\n",
      " 1 1 0 0 2 1 2 1 0 1 0 0 0 1 1 0 2 2 0 1 0 0 0 1 1 0 0 1 0 1 2 1 1 1 0 2 1\n",
      " 2 0 0 0 1 1 1 1 0 0 0 0 0 0 0 0 0 0 2 0]\n",
      "[0 1 1 1 0 0 1 1 1 0 1 0 0 0 0 1 1 1 1 1 0 1 0 0 1 0 1 1 0 0 2 1 1 2 1 1 2\n",
      " 2 2 2 0 0 1 0 1 1 1 1 2 2 1 2 1 2 0 1 2 0 2 0 0 1 1 1 2 0 2 1 0 1 1 1 2 1\n",
      " 2 1 1 0 1 1 1 2 1 2 2 2 2 0 0 1 0 2 0 1 0 0 0 2 0 1 1 1 0 1 0 2 1 0 0 1 0\n",
      " 1 1 2 1 2 2 1 0 2 0 2 0 1 1 0 1 2 0 0 1 0]\n"
     ]
    }
   ],
   "source": [
    "from sklearn.model_selection import train_test_split\n",
    "\n",
    "# Tách tập dữ liệu huấn luyện thành tập huấn luyện và tập validation\n",
    "#X_train, X_val, y_train, y_val = train_test_split(mfcc_arr, label_arr, test_size=0.4, random_state=42)\n",
    "\n",
    "# Sử dụng X_train và y_train để huấn luyện mô hình\n",
    "# Sử dụng X_val và y_val để đánh giá mô hình\n",
    "X_train_val, X_test, y_train_val, y_test = train_test_split(mfcc_arr, label_arr, test_size=0.3)\n",
    "\n",
    "# Chia tập còn lại thành tập validation và tập kiểm tra\n",
    "X_train, X_val, y_train, y_val = train_test_split(X_train_val, y_train_val, test_size=0.5, random_state=42)\n",
    "\n",
    "print(y_train)\n",
    "print(y_val)"
   ]
  },
  {
   "cell_type": "markdown",
   "metadata": {},
   "source": [
    "# Huấn luyện bằng mô hình RNN\n"
   ]
  },
  {
   "cell_type": "code",
   "execution_count": 130,
   "metadata": {},
   "outputs": [
    {
     "name": "stdout",
     "output_type": "stream",
     "text": [
      "Epoch 1/30\n",
      "12/12 [==============================] - 3s 70ms/step - loss: 1.2465 - accuracy: 0.2793 - val_loss: 1.1483 - val_accuracy: 0.2273\n",
      "Epoch 2/30\n",
      "12/12 [==============================] - 0s 13ms/step - loss: 1.1224 - accuracy: 0.3324 - val_loss: 1.0650 - val_accuracy: 0.3485\n",
      "Epoch 3/30\n",
      "12/12 [==============================] - 0s 15ms/step - loss: 1.0514 - accuracy: 0.4149 - val_loss: 1.0196 - val_accuracy: 0.4621\n",
      "Epoch 4/30\n",
      "12/12 [==============================] - 0s 12ms/step - loss: 1.0203 - accuracy: 0.4867 - val_loss: 0.9835 - val_accuracy: 0.5303\n",
      "Epoch 5/30\n",
      "12/12 [==============================] - 0s 12ms/step - loss: 0.9846 - accuracy: 0.5452 - val_loss: 0.9464 - val_accuracy: 0.6515\n",
      "Epoch 6/30\n",
      "12/12 [==============================] - 0s 12ms/step - loss: 0.9689 - accuracy: 0.5293 - val_loss: 0.9118 - val_accuracy: 0.7121\n",
      "Epoch 7/30\n",
      "12/12 [==============================] - 0s 11ms/step - loss: 0.9273 - accuracy: 0.5745 - val_loss: 0.8808 - val_accuracy: 0.7348\n",
      "Epoch 8/30\n",
      "12/12 [==============================] - 0s 12ms/step - loss: 0.9077 - accuracy: 0.5878 - val_loss: 0.8461 - val_accuracy: 0.7197\n",
      "Epoch 9/30\n",
      "12/12 [==============================] - 0s 11ms/step - loss: 0.8856 - accuracy: 0.6011 - val_loss: 0.8214 - val_accuracy: 0.6818\n",
      "Epoch 10/30\n",
      "12/12 [==============================] - 0s 12ms/step - loss: 0.8478 - accuracy: 0.6197 - val_loss: 0.7981 - val_accuracy: 0.6742\n",
      "Epoch 11/30\n",
      "12/12 [==============================] - 0s 13ms/step - loss: 0.8554 - accuracy: 0.6197 - val_loss: 0.7747 - val_accuracy: 0.6970\n",
      "Epoch 12/30\n",
      "12/12 [==============================] - 0s 11ms/step - loss: 0.8314 - accuracy: 0.6250 - val_loss: 0.7556 - val_accuracy: 0.7121\n",
      "Epoch 13/30\n",
      "12/12 [==============================] - 0s 12ms/step - loss: 0.7899 - accuracy: 0.6516 - val_loss: 0.7360 - val_accuracy: 0.7500\n",
      "Epoch 14/30\n",
      "12/12 [==============================] - 0s 12ms/step - loss: 0.7954 - accuracy: 0.6596 - val_loss: 0.7174 - val_accuracy: 0.7500\n",
      "Epoch 15/30\n",
      "12/12 [==============================] - 0s 12ms/step - loss: 0.7860 - accuracy: 0.6489 - val_loss: 0.7049 - val_accuracy: 0.7576\n",
      "Epoch 16/30\n",
      "12/12 [==============================] - 0s 12ms/step - loss: 0.7782 - accuracy: 0.6303 - val_loss: 0.6929 - val_accuracy: 0.7500\n",
      "Epoch 17/30\n",
      "12/12 [==============================] - 0s 11ms/step - loss: 0.7541 - accuracy: 0.6596 - val_loss: 0.6749 - val_accuracy: 0.7500\n",
      "Epoch 18/30\n",
      "12/12 [==============================] - 0s 12ms/step - loss: 0.7235 - accuracy: 0.6835 - val_loss: 0.6598 - val_accuracy: 0.7727\n",
      "Epoch 19/30\n",
      "12/12 [==============================] - 0s 13ms/step - loss: 0.7313 - accuracy: 0.6782 - val_loss: 0.6452 - val_accuracy: 0.7879\n",
      "Epoch 20/30\n",
      "12/12 [==============================] - 0s 15ms/step - loss: 0.6971 - accuracy: 0.7261 - val_loss: 0.6297 - val_accuracy: 0.7955\n",
      "Epoch 21/30\n",
      "12/12 [==============================] - 0s 13ms/step - loss: 0.6858 - accuracy: 0.7128 - val_loss: 0.6173 - val_accuracy: 0.8030\n",
      "Epoch 22/30\n",
      "12/12 [==============================] - 0s 12ms/step - loss: 0.6802 - accuracy: 0.7314 - val_loss: 0.6097 - val_accuracy: 0.8030\n",
      "Epoch 23/30\n",
      "12/12 [==============================] - 0s 12ms/step - loss: 0.6746 - accuracy: 0.7367 - val_loss: 0.5948 - val_accuracy: 0.8106\n",
      "Epoch 24/30\n",
      "12/12 [==============================] - 0s 11ms/step - loss: 0.6510 - accuracy: 0.7420 - val_loss: 0.5800 - val_accuracy: 0.7955\n",
      "Epoch 25/30\n",
      "12/12 [==============================] - 0s 12ms/step - loss: 0.6524 - accuracy: 0.7314 - val_loss: 0.5714 - val_accuracy: 0.8030\n",
      "Epoch 26/30\n",
      "12/12 [==============================] - 0s 12ms/step - loss: 0.6709 - accuracy: 0.7048 - val_loss: 0.5612 - val_accuracy: 0.8106\n",
      "Epoch 27/30\n",
      "12/12 [==============================] - 0s 12ms/step - loss: 0.6091 - accuracy: 0.7447 - val_loss: 0.5499 - val_accuracy: 0.8182\n",
      "Epoch 28/30\n",
      "12/12 [==============================] - 0s 11ms/step - loss: 0.6232 - accuracy: 0.7473 - val_loss: 0.5423 - val_accuracy: 0.8030\n",
      "Epoch 29/30\n",
      "12/12 [==============================] - 0s 13ms/step - loss: 0.6209 - accuracy: 0.7340 - val_loss: 0.5352 - val_accuracy: 0.8182\n",
      "Epoch 30/30\n",
      "12/12 [==============================] - 0s 11ms/step - loss: 0.6116 - accuracy: 0.7394 - val_loss: 0.5247 - val_accuracy: 0.8182\n"
     ]
    },
    {
     "data": {
      "text/plain": [
       "<keras.callbacks.History at 0x16d541952d0>"
      ]
     },
     "execution_count": 130,
     "metadata": {},
     "output_type": "execute_result"
    }
   ],
   "source": [
    "import tensorflow as tf\n",
    "from tensorflow.keras.models import Sequential\n",
    "from tensorflow.keras.layers import Dense, SimpleRNN, Dropout\n",
    "from keras.layers import LSTM, Dense\n",
    "\n",
    "# Xây dựng mô hình\n",
    "model = Sequential()\n",
    "#model.add(LSTM(32, input_shape=(12, 50)))#\n",
    "model.add(SimpleRNN(units=12, input_shape = (12 ,50)))\n",
    "model.add(Dropout(0.2))\n",
    "model.add(Dense(units=24, activation='relu'))\n",
    "model.add(Dense(units=32, activation='relu'))\n",
    "model.add(Dense(3, activation='softmax'))\n",
    "\n",
    "# Biên dịch và huấn luyện mô hình\n",
    "model.compile(loss='sparse_categorical_crossentropy', optimizer='adam', metrics=['accuracy'])\n",
    "model.fit(mfcc_arr, label_arr, batch_size=32, epochs=30,validation_data=(X_val, y_val) )\n",
    "\n",
    "#model.save('my_model.h5')"
   ]
  },
  {
   "cell_type": "code",
   "execution_count": null,
   "metadata": {},
   "outputs": [
    {
     "name": "stdout",
     "output_type": "stream",
     "text": [
      "Model: \"sequential_4\"\n",
      "_________________________________________________________________\n",
      " Layer (type)                Output Shape              Param #   \n",
      "=================================================================\n",
      " lstm_4 (LSTM)               (None, 32)                10624     \n",
      "                                                                 \n",
      " dropout_4 (Dropout)         (None, 32)                0         \n",
      "                                                                 \n",
      " dense_8 (Dense)             (None, 32)                1056      \n",
      "                                                                 \n",
      " dense_9 (Dense)             (None, 3)                 99        \n",
      "                                                                 \n",
      "=================================================================\n",
      "Total params: 11,779\n",
      "Trainable params: 11,779\n",
      "Non-trainable params: 0\n",
      "_________________________________________________________________\n"
     ]
    }
   ],
   "source": [
    "model.summary()"
   ]
  },
  {
   "cell_type": "markdown",
   "metadata": {},
   "source": [
    "#DỰ ĐOÁN"
   ]
  },
  {
   "cell_type": "code",
   "execution_count": 131,
   "metadata": {},
   "outputs": [
    {
     "name": "stdout",
     "output_type": "stream",
     "text": [
      "1/1 [==============================] - 0s 450ms/step\n",
      "0 Predict  [0]\n",
      "1/1 [==============================] - 0s 42ms/step\n",
      "0 Predict  [0]\n",
      "1/1 [==============================] - 0s 40ms/step\n",
      "0 Predict  [2]\n",
      "1/1 [==============================] - 0s 39ms/step\n",
      "1 Predict  [1]\n",
      "1/1 [==============================] - 0s 35ms/step\n",
      "0 Predict  [0]\n",
      "1/1 [==============================] - 0s 42ms/step\n",
      "1 Predict  [1]\n",
      "1/1 [==============================] - 0s 39ms/step\n",
      "1 Predict  [1]\n",
      "1/1 [==============================] - 0s 49ms/step\n",
      "0 Predict  [0]\n",
      "1/1 [==============================] - 0s 46ms/step\n",
      "0 Predict  [0]\n",
      "1/1 [==============================] - 0s 40ms/step\n",
      "1 Predict  [1]\n",
      "1/1 [==============================] - 0s 39ms/step\n",
      "0 Predict  [0]\n",
      "1/1 [==============================] - 0s 41ms/step\n",
      "1 Predict  [1]\n",
      "1/1 [==============================] - 0s 51ms/step\n",
      "2 Predict  [2]\n",
      "1/1 [==============================] - 0s 41ms/step\n",
      "1 Predict  [1]\n",
      "1/1 [==============================] - 0s 33ms/step\n",
      "2 Predict  [2]\n",
      "1/1 [==============================] - 0s 39ms/step\n",
      "0 Predict  [0]\n",
      "1/1 [==============================] - 0s 43ms/step\n",
      "0 Predict  [0]\n",
      "1/1 [==============================] - 0s 39ms/step\n",
      "2 Predict  [0]\n",
      "1/1 [==============================] - 0s 41ms/step\n",
      "1 Predict  [1]\n",
      "1/1 [==============================] - 0s 41ms/step\n",
      "0 Predict  [0]\n",
      "1/1 [==============================] - 0s 32ms/step\n",
      "1 Predict  [1]\n",
      "1/1 [==============================] - 0s 38ms/step\n",
      "0 Predict  [0]\n",
      "1/1 [==============================] - 0s 44ms/step\n",
      "1 Predict  [1]\n",
      "1/1 [==============================] - 0s 39ms/step\n",
      "0 Predict  [1]\n",
      "1/1 [==============================] - 0s 41ms/step\n",
      "0 Predict  [0]\n",
      "1/1 [==============================] - 0s 43ms/step\n",
      "1 Predict  [1]\n",
      "1/1 [==============================] - 0s 46ms/step\n",
      "1 Predict  [1]\n",
      "1/1 [==============================] - 0s 40ms/step\n",
      "1 Predict  [1]\n",
      "1/1 [==============================] - 0s 43ms/step\n",
      "0 Predict  [0]\n",
      "1/1 [==============================] - 0s 50ms/step\n",
      "2 Predict  [0]\n",
      "1/1 [==============================] - 0s 49ms/step\n",
      "2 Predict  [2]\n",
      "1/1 [==============================] - 0s 48ms/step\n",
      "1 Predict  [1]\n",
      "1/1 [==============================] - 0s 48ms/step\n",
      "0 Predict  [0]\n",
      "1/1 [==============================] - 0s 44ms/step\n",
      "0 Predict  [0]\n",
      "1/1 [==============================] - 0s 39ms/step\n",
      "2 Predict  [2]\n",
      "1/1 [==============================] - 0s 62ms/step\n",
      "1 Predict  [1]\n",
      "1/1 [==============================] - 0s 50ms/step\n",
      "1 Predict  [1]\n",
      "1/1 [==============================] - 0s 59ms/step\n",
      "2 Predict  [0]\n",
      "1/1 [==============================] - 0s 43ms/step\n",
      "0 Predict  [0]\n",
      "1/1 [==============================] - 0s 41ms/step\n",
      "1 Predict  [1]\n",
      "1/1 [==============================] - 0s 39ms/step\n",
      "0 Predict  [0]\n",
      "1/1 [==============================] - 0s 46ms/step\n",
      "0 Predict  [0]\n",
      "1/1 [==============================] - 0s 39ms/step\n",
      "2 Predict  [0]\n",
      "1/1 [==============================] - 0s 47ms/step\n",
      "2 Predict  [2]\n",
      "1/1 [==============================] - 0s 47ms/step\n",
      "2 Predict  [2]\n",
      "1/1 [==============================] - 0s 43ms/step\n",
      "0 Predict  [0]\n",
      "1/1 [==============================] - 0s 59ms/step\n",
      "1 Predict  [1]\n",
      "1/1 [==============================] - 0s 34ms/step\n",
      "0 Predict  [0]\n",
      "1/1 [==============================] - 0s 33ms/step\n",
      "1 Predict  [1]\n",
      "1/1 [==============================] - 0s 33ms/step\n",
      "2 Predict  [2]\n",
      "1/1 [==============================] - 0s 36ms/step\n",
      "0 Predict  [2]\n",
      "1/1 [==============================] - 0s 44ms/step\n",
      "0 Predict  [0]\n",
      "1/1 [==============================] - 0s 46ms/step\n",
      "1 Predict  [1]\n",
      "1/1 [==============================] - 0s 37ms/step\n",
      "2 Predict  [2]\n",
      "1/1 [==============================] - 0s 40ms/step\n",
      "2 Predict  [0]\n",
      "1/1 [==============================] - 0s 41ms/step\n",
      "0 Predict  [0]\n",
      "1/1 [==============================] - 0s 40ms/step\n",
      "1 Predict  [1]\n",
      "1/1 [==============================] - 0s 40ms/step\n",
      "1 Predict  [1]\n",
      "1/1 [==============================] - 0s 42ms/step\n",
      "0 Predict  [0]\n",
      "1/1 [==============================] - 0s 43ms/step\n",
      "1 Predict  [1]\n",
      "1/1 [==============================] - 0s 42ms/step\n",
      "1 Predict  [1]\n",
      "1/1 [==============================] - 0s 146ms/step\n",
      "1 Predict  [1]\n",
      "1/1 [==============================] - 0s 43ms/step\n",
      "1 Predict  [1]\n",
      "1/1 [==============================] - 0s 48ms/step\n",
      "0 Predict  [2]\n",
      "1/1 [==============================] - 0s 34ms/step\n",
      "0 Predict  [1]\n",
      "1/1 [==============================] - 0s 41ms/step\n",
      "2 Predict  [2]\n",
      "1/1 [==============================] - 0s 45ms/step\n",
      "1 Predict  [1]\n",
      "1/1 [==============================] - 0s 39ms/step\n",
      "0 Predict  [0]\n",
      "1/1 [==============================] - 0s 49ms/step\n",
      "1 Predict  [1]\n",
      "1/1 [==============================] - 0s 41ms/step\n",
      "1 Predict  [1]\n",
      "1/1 [==============================] - 0s 40ms/step\n",
      "0 Predict  [2]\n",
      "1/1 [==============================] - 0s 44ms/step\n",
      "0 Predict  [0]\n",
      "1/1 [==============================] - 0s 40ms/step\n",
      "1 Predict  [1]\n",
      "1/1 [==============================] - 0s 39ms/step\n",
      "0 Predict  [0]\n",
      "1/1 [==============================] - 0s 41ms/step\n",
      "0 Predict  [0]\n",
      "1/1 [==============================] - 0s 48ms/step\n",
      "0 Predict  [0]\n",
      "1/1 [==============================] - 0s 46ms/step\n",
      "1 Predict  [1]\n",
      "1/1 [==============================] - 0s 40ms/step\n",
      "1 Predict  [1]\n",
      "1/1 [==============================] - 0s 43ms/step\n",
      "0 Predict  [1]\n",
      "1/1 [==============================] - 0s 43ms/step\n",
      "2 Predict  [2]\n",
      "1/1 [==============================] - 0s 44ms/step\n",
      "2 Predict  [2]\n",
      "1/1 [==============================] - 0s 41ms/step\n",
      "1 Predict  [1]\n",
      "1/1 [==============================] - 0s 40ms/step\n",
      "0 Predict  [0]\n",
      "1/1 [==============================] - 0s 48ms/step\n",
      "1 Predict  [1]\n",
      "1/1 [==============================] - 0s 42ms/step\n",
      "1 Predict  [1]\n",
      "1/1 [==============================] - 0s 47ms/step\n",
      "1 Predict  [1]\n",
      "1/1 [==============================] - 0s 40ms/step\n",
      "0 Predict  [0]\n",
      "1/1 [==============================] - 0s 31ms/step\n",
      "1 Predict  [1]\n",
      "1/1 [==============================] - 0s 39ms/step\n",
      "0 Predict  [0]\n",
      "1/1 [==============================] - 0s 38ms/step\n",
      "2 Predict  [2]\n",
      "1/1 [==============================] - 0s 44ms/step\n",
      "1 Predict  [1]\n",
      "1/1 [==============================] - 0s 42ms/step\n",
      "1 Predict  [1]\n",
      "1/1 [==============================] - 0s 48ms/step\n",
      "1 Predict  [1]\n",
      "1/1 [==============================] - 0s 43ms/step\n",
      "0 Predict  [0]\n",
      "1/1 [==============================] - 0s 41ms/step\n",
      "2 Predict  [0]\n",
      "1/1 [==============================] - 0s 40ms/step\n",
      "2 Predict  [0]\n",
      "1/1 [==============================] - 0s 64ms/step\n",
      "1 Predict  [1]\n",
      "1/1 [==============================] - 0s 49ms/step\n",
      "0 Predict  [0]\n",
      "1/1 [==============================] - 0s 39ms/step\n",
      "1 Predict  [1]\n",
      "1/1 [==============================] - 0s 40ms/step\n",
      "1 Predict  [1]\n",
      "1/1 [==============================] - 0s 50ms/step\n",
      "0 Predict  [0]\n",
      "1/1 [==============================] - 0s 38ms/step\n",
      "1 Predict  [1]\n",
      "1/1 [==============================] - 0s 39ms/step\n",
      "1 Predict  [1]\n",
      "1/1 [==============================] - 0s 42ms/step\n",
      "0 Predict  [0]\n",
      "1/1 [==============================] - 0s 63ms/step\n",
      "1 Predict  [0]\n",
      "1/1 [==============================] - 0s 23ms/step\n",
      "0 Predict  [1]\n",
      "1/1 [==============================] - 0s 25ms/step\n",
      "2 Predict  [2]\n",
      "1/1 [==============================] - 0s 27ms/step\n",
      "2 Predict  [2]\n",
      "1/1 [==============================] - 0s 26ms/step\n",
      "0 Predict  [2]\n",
      "1/1 [==============================] - 0s 24ms/step\n",
      "1 Predict  [1]\n",
      "1/1 [==============================] - 0s 23ms/step\n",
      "2 Predict  [2]\n",
      "1/1 [==============================] - 0s 23ms/step\n",
      "1 Predict  [1]\n",
      "1/1 [==============================] - 0s 28ms/step\n",
      "0 Predict  [0]\n"
     ]
    }
   ],
   "source": [
    "y_pred = []\n",
    "for x in range(len(X_test)):\n",
    "    new_data = X_test[x].reshape((1,12,50))\n",
    "    predictions = model.predict(new_data)\n",
    "    predicted_labels = np.argmax(predictions, axis=1)\n",
    "    y_pred.append(int(predicted_labels))\n",
    "    print(y_test[x], \"Predict \", predicted_labels)"
   ]
  },
  {
   "cell_type": "code",
   "execution_count": 132,
   "metadata": {},
   "outputs": [
    {
     "name": "stdout",
     "output_type": "stream",
     "text": [
      "[0, 0, 2, 1, 0, 1, 1, 0, 0, 1, 0, 1, 2, 1, 2, 0, 0, 0, 1, 0, 1, 0, 1, 1, 0, 1, 1, 1, 0, 0, 2, 1, 0, 0, 2, 1, 1, 0, 0, 1, 0, 0, 0, 2, 2, 0, 1, 0, 1, 2, 2, 0, 1, 2, 0, 0, 1, 1, 0, 1, 1, 1, 1, 2, 1, 2, 1, 0, 1, 1, 2, 0, 1, 0, 0, 0, 1, 1, 1, 2, 2, 1, 0, 1, 1, 1, 0, 1, 0, 2, 1, 1, 1, 0, 0, 0, 1, 0, 1, 1, 0, 1, 1, 0, 0, 1, 2, 2, 2, 1, 2, 1, 0]\n",
      "[0, 0, 0, 1, 0, 1, 1, 0, 0, 1, 0, 1, 2, 1, 2, 0, 0, 2, 1, 0, 1, 0, 1, 0, 0, 1, 1, 1, 0, 2, 2, 1, 0, 0, 2, 1, 1, 2, 0, 1, 0, 0, 2, 2, 2, 0, 1, 0, 1, 2, 0, 0, 1, 2, 2, 0, 1, 1, 0, 1, 1, 1, 1, 0, 0, 2, 1, 0, 1, 1, 0, 0, 1, 0, 0, 0, 1, 1, 0, 2, 2, 1, 0, 1, 1, 1, 0, 1, 0, 2, 1, 1, 1, 0, 2, 2, 1, 0, 1, 1, 0, 1, 1, 0, 1, 0, 2, 2, 0, 1, 2, 1, 0]\n"
     ]
    }
   ],
   "source": [
    "print(y_pred)\n",
    "y_test = list(y_test)\n",
    "print(y_test)\n"
   ]
  },
  {
   "cell_type": "code",
   "execution_count": 135,
   "metadata": {},
   "outputs": [],
   "source": [
    "def plot_confusion_matrix(confusion_matrix, labels):\n",
    "    \n",
    "    fig, ax = plt.subplots()\n",
    "    im = ax.imshow(confusion_matrix, cmap='BuPu')\n",
    "\n",
    "    ax.set_xticks(np.arange(len(labels)))\n",
    "    ax.set_yticks(np.arange(len(labels)))\n",
    "    ax.set_xticklabels(labels)\n",
    "    ax.set_yticklabels(labels)\n",
    "\n",
    "    # Đưa ra giá trị trên từng ô\n",
    "    for i in range(len(labels)):\n",
    "        for j in range(len(labels)):\n",
    "            text = ax.text(j, i, confusion_matrix[i, j],\n",
    "                           ha=\"center\", va=\"center\", color=\"black\")\n",
    "\n",
    "    ax.set_title(\"Confusion Matrix\")\n",
    "    fig.tight_layout()\n",
    "    plt.show()"
   ]
  },
  {
   "cell_type": "code",
   "execution_count": 136,
   "metadata": {},
   "outputs": [
    {
     "data": {
      "image/png": "[encoded data removed]",
      "text/plain": [
       "<Figure size 640x480 with 1 Axes>"
      ]
     },
     "metadata": {},
     "output_type": "display_data"
    }
   ],
   "source": [
    "from sklearn.metrics import confusion_matrix\n",
    "\n",
    "confusion_matrix1 = confusion_matrix(y_test,y_pred)\n",
    "\n",
    "labels = np.unique(y_test)\n",
    "\n",
    "plot_confusion_matrix(confusion_matrix1, labels)"
   ]
  },
  {
   "cell_type": "code",
   "execution_count": 137,
   "metadata": {},
   "outputs": [
    {
     "name": "stdout",
     "output_type": "stream",
     "text": [
      "\n",
      "Folder: bye\n",
      "bye_1.wav\n",
      "bye_2.wav\n",
      "bye_3.wav\n",
      "bye_30.wav\n",
      "bye_4.wav\n",
      "bye_5.wav\n",
      "bye_6.wav\n",
      "\n",
      "Folder: code\n",
      "code_1 (2).wav\n",
      "code_1.wav\n",
      "code_2.wav\n",
      "code_3.wav\n",
      "code_4.wav\n",
      "code_5.wav\n",
      "code_6.wav\n",
      "\n",
      "Folder: date\n",
      "date_1.wav\n",
      "date_2.wav\n",
      "date_3.wav\n",
      "date_4.wav\n",
      "date_5.wav\n",
      "date_6.wav\n",
      "\n",
      "Folder: game\n",
      "game_1.wav\n",
      "game_2.wav\n",
      "game_3.wav\n",
      "game_4.wav\n",
      "game_5.wav\n",
      "game_6.wav\n",
      "\n",
      "Folder: hello\n",
      "hello.wav\n",
      "hello_1.wav\n",
      "hello_2.wav\n",
      "hello_3.wav\n",
      "hello_4.wav\n",
      "hello_5.wav\n",
      "hello_6.wav\n",
      "\n",
      "Folder: music\n",
      "music_1.wav\n",
      "music_2.wav\n",
      "music_3.wav\n",
      "music_4.wav\n",
      "music_5.wav\n",
      "music_6.wav\n",
      "\n",
      "Folder: time\n",
      "time_1.wav\n",
      "time_2.wav\n",
      "time_3.wav\n",
      "time_4.wav\n",
      "time_5.wav\n",
      "time_6.wav\n"
     ]
    }
   ],
   "source": [
    "sound_folder = 'Test/'\n",
    "folder_list = os.listdir(sound_folder)\n",
    "\n",
    "for folder in folder_list:\n",
    "    print()\n",
    "    print(\"Folder: \" + folder)\n",
    "    for file in os.listdir(sound_folder + folder + '/'):\n",
    "\n",
    "        print(file)"
   ]
  },
  {
   "cell_type": "code",
   "execution_count": 138,
   "metadata": {},
   "outputs": [
    {
     "name": "stdout",
     "output_type": "stream",
     "text": [
      "['bye', 'bye', 'bye', 'bye', 'bye', 'bye', 'bye', 'code', 'code', 'code', 'code', 'code', 'code', 'code', 'date', 'date', 'date', 'date', 'date', 'date', 'game', 'game', 'game', 'game', 'game', 'game', 'hello', 'hello', 'hello', 'hello', 'hello', 'hello', 'hello', 'music', 'music', 'music', 'music', 'music', 'music', 'time', 'time', 'time', 'time', 'time', 'time']\n"
     ]
    }
   ],
   "source": [
    "test_mfcc_list = []\n",
    "test_label_list = []\n",
    "\n",
    "for folder in folder_list:\n",
    "    for file in os.listdir(sound_folder + folder + '/'):\n",
    "        y, sr = librosa.load(os.path.join(sound_folder, folder, file), sr = 8000)\n",
    "        mfcc = librosa.feature.mfcc(y=y, sr=sr, n_mfcc=12)\n",
    "        \n",
    "        test_label_list.append(folder)\n",
    "        test_mfcc_list.append(mfcc)\n",
    "\n",
    "print(test_label_list)\n"
   ]
  },
  {
   "cell_type": "markdown",
   "metadata": {},
   "source": []
  },
  {
   "cell_type": "code",
   "execution_count": 139,
   "metadata": {},
   "outputs": [],
   "source": [
    "desired_num_features = 50\n",
    "processed_mfcc_list = []\n",
    "# Cắt hoặc zero-padding các khung MFCC để có cùng số đặc trưng\n",
    "def process_mfcc(mfcc):\n",
    "    if mfcc.shape[1] > desired_num_features:\n",
    "        mfcc = mfcc[:, :desired_num_features]\n",
    "    elif mfcc.shape[1] < desired_num_features:\n",
    "        num_missing_features = desired_num_features - mfcc.shape[1]\n",
    "        mfcc = np.pad(mfcc, ((0, 0), (0, num_missing_features)), mode='constant')\n",
    "    return mfcc\n",
    "\n",
    "\n",
    "for mfcc in test_mfcc_list:\n",
    "    processed_mfcc = process_mfcc(mfcc)\n",
    "    processed_mfcc_list.append(processed_mfcc)\n"
   ]
  },
  {
   "cell_type": "code",
   "execution_count": 140,
   "metadata": {},
   "outputs": [],
   "source": [
    "\n",
    "mfcc_arr = np.asarray(processed_mfcc_list)\n"
   ]
  },
  {
   "cell_type": "code",
   "execution_count": 141,
   "metadata": {},
   "outputs": [
    {
     "name": "stdout",
     "output_type": "stream",
     "text": [
      "1/1 [==============================] - 0s 39ms/step\n",
      "bye predict ['bye']\n",
      "1/1 [==============================] - 0s 46ms/step\n",
      "bye predict ['code']\n",
      "1/1 [==============================] - 0s 57ms/step\n",
      "bye predict ['code']\n",
      "1/1 [==============================] - 0s 33ms/step\n",
      "bye predict ['code']\n",
      "1/1 [==============================] - 0s 37ms/step\n",
      "bye predict ['code']\n",
      "1/1 [==============================] - 0s 42ms/step\n",
      "bye predict ['hello']\n",
      "1/1 [==============================] - 0s 51ms/step\n",
      "bye predict ['hello']\n",
      "1/1 [==============================] - 0s 39ms/step\n",
      "code predict ['bye']\n",
      "1/1 [==============================] - 0s 44ms/step\n",
      "code predict ['code']\n",
      "1/1 [==============================] - 0s 34ms/step\n",
      "code predict ['code']\n",
      "1/1 [==============================] - 0s 41ms/step\n",
      "code predict ['code']\n",
      "1/1 [==============================] - 0s 49ms/step\n",
      "code predict ['code']\n",
      "1/1 [==============================] - 0s 56ms/step\n",
      "code predict ['code']\n",
      "1/1 [==============================] - 0s 44ms/step\n",
      "code predict ['code']\n",
      "1/1 [==============================] - 0s 46ms/step\n",
      "date predict ['bye']\n",
      "1/1 [==============================] - 0s 50ms/step\n",
      "date predict ['code']\n",
      "1/1 [==============================] - 0s 43ms/step\n",
      "date predict ['bye']\n",
      "1/1 [==============================] - 0s 41ms/step\n",
      "date predict ['hello']\n",
      "1/1 [==============================] - 0s 47ms/step\n",
      "date predict ['code']\n",
      "1/1 [==============================] - 0s 54ms/step\n",
      "date predict ['bye']\n",
      "1/1 [==============================] - 0s 42ms/step\n",
      "game predict ['code']\n",
      "1/1 [==============================] - 0s 45ms/step\n",
      "game predict ['bye']\n",
      "1/1 [==============================] - 0s 42ms/step\n",
      "game predict ['code']\n",
      "1/1 [==============================] - 0s 45ms/step\n",
      "game predict ['bye']\n",
      "1/1 [==============================] - 0s 45ms/step\n",
      "game predict ['code']\n",
      "1/1 [==============================] - 0s 59ms/step\n",
      "game predict ['code']\n",
      "1/1 [==============================] - 0s 44ms/step\n",
      "hello predict ['bye']\n",
      "1/1 [==============================] - 0s 44ms/step\n",
      "hello predict ['code']\n",
      "1/1 [==============================] - 0s 50ms/step\n",
      "hello predict ['code']\n",
      "1/1 [==============================] - 0s 70ms/step\n",
      "hello predict ['code']\n",
      "1/1 [==============================] - 0s 57ms/step\n",
      "hello predict ['bye']\n",
      "1/1 [==============================] - 0s 38ms/step\n",
      "hello predict ['hello']\n",
      "1/1 [==============================] - 0s 48ms/step\n",
      "hello predict ['hello']\n",
      "1/1 [==============================] - 0s 50ms/step\n",
      "music predict ['bye']\n",
      "1/1 [==============================] - 0s 45ms/step\n",
      "music predict ['bye']\n",
      "1/1 [==============================] - 0s 39ms/step\n",
      "music predict ['code']\n",
      "1/1 [==============================] - 0s 42ms/step\n",
      "music predict ['bye']\n",
      "1/1 [==============================] - 0s 50ms/step\n",
      "music predict ['code']\n",
      "1/1 [==============================] - 0s 43ms/step\n",
      "music predict ['code']\n",
      "1/1 [==============================] - 0s 47ms/step\n",
      "time predict ['bye']\n",
      "1/1 [==============================] - 0s 44ms/step\n",
      "time predict ['code']\n",
      "1/1 [==============================] - 0s 45ms/step\n",
      "time predict ['bye']\n",
      "1/1 [==============================] - 0s 52ms/step\n",
      "time predict ['bye']\n",
      "1/1 [==============================] - 0s 40ms/step\n",
      "time predict ['bye']\n",
      "1/1 [==============================] - 0s 43ms/step\n",
      "time predict ['code']\n"
     ]
    }
   ],
   "source": [
    "for x in range(len(mfcc_arr)):\n",
    "    new_data = mfcc_arr[x].reshape((1,12,50))\n",
    "    predictions = model.predict(new_data)\n",
    "    #print(predictions)\n",
    "    predicted_labels = np.argmax(predictions, axis=1)\n",
    "    #print(predicted_labels\n",
    "    decoded_labels = label_encoder.inverse_transform(predicted_labels)\n",
    "    print(test_label_list[x],\"predict\" , decoded_labels)"
   ]
  },
  {
   "cell_type": "code",
   "execution_count": null,
   "metadata": {},
   "outputs": [
    {
     "data": {
      "image/png": "[encoded data removed]",
      "text/plain": [
       "<Figure size 1200x300 with 2 Axes>"
      ]
     },
     "metadata": {},
     "output_type": "display_data"
    }
   ],
   "source": [
    "import numpy as np\n",
    "import matplotlib.pyplot as plt\n",
    "\n",
    "# Giả định bạn đã có ma trận MFCC đã tính toán được\n",
    "mfcc_matrix = mfcc_list[0] # Giả định ma trận MFCC có kích thước 100x13\n",
    "\n",
    "# Biểu diễn ma trận MFCC trên biểu đồ\n",
    "plt.figure(figsize=(12, 3))\n",
    "plt.imshow(mfcc_matrix.T, cmap='hot', origin='upper', aspect='auto')\n",
    "plt.colorbar()\n",
    "plt.xlabel('Frame')\n",
    "plt.ylabel('MFCC Coefficients')\n",
    "plt.title('MFCC')\n",
    "plt.show()"
   ]
  },
  {
   "cell_type": "code",
   "execution_count": null,
   "metadata": {},
   "outputs": [],
   "source": [
    "# import numpy as np\n",
    "# import matplotlib.pyplot as plt\n",
    "\n",
    "# for z in range(0,len(mfcc_list)):\n",
    "\n",
    "# # Giả định bạn đã có một mảng các hệ số MFCC\n",
    "#     mfcc_coeffs = mfcc_list[z]  # Giả định ma trận MFCC có kích thước 100x13\n",
    "\n",
    "#     # Tạo biểu đồ đường cho các hệ số MFCC\n",
    "#     plt.figure(figsize=(3, 1))\n",
    "#     for i in range(13):\n",
    "#         plt.plot(mfcc_coeffs[:, i], label=f'MFCC {i+1}')\n",
    "\n",
    "#     plt.xlabel('Frame')\n",
    "#     plt.ylabel('MFCC Coefficient Value')\n",
    "#     plt.title('MFCC Coefficients')\n",
    "#     #plt.legend()\n",
    "#     plt.show()"
   ]
  }
 ],
 "metadata": {
  "kernelspec": {
   "display_name": "Python 3",
   "language": "python",
   "name": "python3"
  },
  "language_info": {
   "codemirror_mode": {
    "name": "ipython",
    "version": 3
   },
   "file_extension": ".py",
   "mimetype": "text/x-python",
   "name": "python",
   "nbconvert_exporter": "python",
   "pygments_lexer": "ipython3",
   "version": "3.11.1"
  },
  "orig_nbformat": 4
 },
 "nbformat": 4,
 "nbformat_minor": 2
}
