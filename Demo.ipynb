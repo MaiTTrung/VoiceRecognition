{
 "cells": [
  {
   "cell_type": "code",
   "execution_count": 1,
   "metadata": {},
   "outputs": [
    {
     "name": "stdout",
     "output_type": "stream",
     "text": [
      "Label: audio/Bye.wav\n",
      "Sample rate: 44100\n",
      "Audio shape: (154624,)\n",
      "MFCC shape: (12, 303)\n",
      "Chuyển vị (303, 12)\n",
      " \n",
      "Label: audio/Bye2.wav\n",
      "Sample rate: 44100\n",
      "Audio shape: (136192,)\n",
      "MFCC shape: (12, 267)\n",
      "Chuyển vị (267, 12)\n",
      " \n",
      "Label: audio/Bye3.wav\n",
      "Sample rate: 44100\n",
      "Audio shape: (120832,)\n",
      "MFCC shape: (12, 237)\n",
      "Chuyển vị (237, 12)\n",
      " \n",
      "Label: audio/Hello.wav\n",
      "Sample rate: 44100\n",
      "Audio shape: (104448,)\n",
      "MFCC shape: (12, 205)\n",
      "Chuyển vị (205, 12)\n",
      " \n",
      "Label: audio/Hello2.wav\n",
      "Sample rate: 44100\n",
      "Audio shape: (112640,)\n",
      "MFCC shape: (12, 221)\n",
      "Chuyển vị (221, 12)\n",
      " \n",
      "Label: audio/Hello3.wav\n",
      "Sample rate: 44100\n",
      "Audio shape: (158720,)\n",
      "MFCC shape: (12, 311)\n",
      "Chuyển vị (311, 12)\n",
      " \n"
     ]
    }
   ],
   "source": [
    "import librosa\n",
    "import numpy as np\n",
    "import os \n",
    "\n",
    "\n",
    "train_folder = 'audio/'\n",
    "train_files = [os.path.join(train_folder, file) for file in os.listdir(train_folder) if file.endswith('.wav')]\n",
    "\n",
    "labels = []  \n",
    "mfccs_list = []  \n",
    "\n",
    "for file in train_files:\n",
    "    y, sr = librosa.load(file, sr = None)\n",
    "\n",
    "    mfcc = librosa.feature.mfcc(y=y, sr=sr, n_mfcc=12)\n",
    "\n",
    "\n",
    "    labels.append(file)\n",
    "    mfccs_list.append(mfcc)\n",
    "\n",
    "    print(\"Label:\", file)\n",
    "    print(\"Sample rate:\", sr)\n",
    "    print(\"Audio shape:\", y.shape)\n",
    "    print(\"MFCC shape:\", mfcc.shape)\n",
    "    print(\"Chuyển vị\", mfcc.T.shape)\n",
    "    print(\" \")\n"
   ]
  }
 ],
 "metadata": {
  "kernelspec": {
   "display_name": "Python 3",
   "language": "python",
   "name": "python3"
  },
  "language_info": {
   "codemirror_mode": {
    "name": "ipython",
    "version": 3
   },
   "file_extension": ".py",
   "mimetype": "text/x-python",
   "name": "python",
   "nbconvert_exporter": "python",
   "pygments_lexer": "ipython3",
   "version": "3.11.1"
  },
  "orig_nbformat": 4
 },
 "nbformat": 4,
 "nbformat_minor": 2
}
